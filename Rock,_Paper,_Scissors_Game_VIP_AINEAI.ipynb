{
  "nbformat": 4,
  "nbformat_minor": 0,
  "metadata": {
    "colab": {
      "name": "Rock, Paper, Scissors Game #VIP@AINEAI.ipynb",
      "provenance": [],
      "collapsed_sections": []
    },
    "kernelspec": {
      "name": "python3",
      "display_name": "Python 3"
    },
    "language_info": {
      "name": "python"
    }
  },
  "cells": [
    {
      "cell_type": "code",
      "execution_count": 1,
      "metadata": {
        "colab": {
          "base_uri": "https://localhost:8080/"
        },
        "id": "jx5ZnZNuv2Bq",
        "outputId": "ab84c150-4b37-4a63-86c5-d1d521f6ec38"
      },
      "outputs": [
        {
          "output_type": "stream",
          "name": "stdout",
          "text": [
            "choose between rock, paper, scissorspapeR\n",
            "The computer has choosen scissors\n",
            "You Lose\n"
          ]
        }
      ],
      "source": [
        "import random\n",
        "your_choice = input(\"choose between rock, paper, scissors\").lower()\n",
        "options = ['rock','paper','scissors']\n",
        "computer_choice = random.choice(options)\n",
        "print('The computer has choosen',computer_choice)\n",
        "if your_choice == computer_choice:\n",
        "  print('It is a tie, as both have choosen the same thing')\n",
        "else:\n",
        "  if your_choice == 'rock':\n",
        "    if computer_choice == 'scissors':\n",
        "      print('You Win')\n",
        "    else:\n",
        "      print('You Lose')\n",
        "  if your_choice == 'stone':\n",
        "    if computer_choice == 'scissors':\n",
        "      print('You Win')\n",
        "    else:\n",
        "      print('You Lose')\n",
        "  if your_choice == 'paper':\n",
        "    if computer_choice == 'rock':\n",
        "      print('You Win')\n",
        "    else:\n",
        "      print('You Lose')"
      ]
    }
  ]
}